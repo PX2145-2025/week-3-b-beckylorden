{
  "cells": [
    {
      "cell_type": "markdown",
      "metadata": {
        "id": "8d-DbRfy-giw"
      },
      "source": [
        "# Feedback from previous weeks and other and hints\n",
        "\n",
        "1. Be careful about your environment remembering variables. Make sure your code works in a new _clean_ environment. In Colab: `Runtime`->`restart Runtime`, in Anaconda's Jupyter: `Kernel`->`Restart`.\n",
        "2. Graphs without labels (or units when appropriate) are not worth any point.\n",
        "3. Do put in sufficient explanatory comments in your code.\n",
        "4. Functions are very important. Do look up the video on the Safari O'Reilly ressource if you are still not clear on them !\n",
        "\n",
        "For this week you can use these imports at the start of your programs:"
      ]
    },
    {
      "cell_type": "code",
      "execution_count": null,
      "metadata": {
        "id": "EADz_SKz-giy"
      },
      "outputs": [],
      "source": [
        "import numpy as np\n",
        "import matplotlib.pyplot as plt"
      ]
    },
    {
      "cell_type": "markdown",
      "metadata": {
        "id": "15hsxF0D-giz"
      },
      "source": [
        "We will use a new module `uncertainties`, which is **not** standard in the colab environment. You will have to first run:"
      ]
    },
    {
      "cell_type": "code",
      "execution_count": null,
      "metadata": {
        "id": "kXhag6iN-gi0"
      },
      "outputs": [],
      "source": [
        "! pip install -q uncertainties"
      ]
    },
    {
      "cell_type": "markdown",
      "metadata": {
        "id": "6xiXLVsd-gi0"
      },
      "source": [
        "To install the module before you can import it:"
      ]
    },
    {
      "cell_type": "code",
      "execution_count": null,
      "metadata": {
        "id": "4VFAUfVq-gi0"
      },
      "outputs": [],
      "source": [
        "import uncertainties as uc\n",
        "import uncertainties.umath as um # for maths functions"
      ]
    },
    {
      "cell_type": "markdown",
      "metadata": {
        "id": "T_cSbHMs-gi0"
      },
      "source": [
        "# Introduction\n",
        "In the practical classes PX2133/PX2233 and PX2338 (Obs tech), as well as your year 3/4 project, a lot of emphasis is placed on the determination and mathematical handling of errors.\n",
        "The uncertainties module allows us to deal very easily with [error propagation](https://en.wikipedia.org/wiki/Propagation_of_uncertainty). For this sheet you should remind yourself about error bars in measurements and about propagation of uncertainties. Take an example from your lab handbook:\n",
        "\n",
        "**Example 1**: If the length of a rectangle is $1.24\\pm0.02 m$ and its breadth is $0.61\\pm0.01 m$, what is its area and the error in the area? The following code snippet solves this problem in a few lines."
      ]
    },
    {
      "cell_type": "code",
      "execution_count": null,
      "metadata": {
        "id": "SZ8Zx1pt-gi1",
        "outputId": "3d17d6b6-d921-41de-dc7c-068a17729df4"
      },
      "outputs": [
        {
          "name": "stdout",
          "output_type": "stream",
          "text": [
            "Area is: 0.756+/-0.017 m^2\n"
          ]
        }
      ],
      "source": [
        "L = uc.ufloat(1.24, 0.02)\n",
        "W = uc.ufloat(0.61, 0.01)\n",
        "print ('Area is:', L*W, 'm^2') # Do remember to add the units when printing!"
      ]
    },
    {
      "cell_type": "markdown",
      "metadata": {
        "id": "NOx1lMcT-gi2"
      },
      "source": [
        "**Note**: For the area itself, it's fairly straightforward:"
      ]
    },
    {
      "cell_type": "code",
      "execution_count": null,
      "metadata": {
        "id": "wXJLi6Th-gi2",
        "outputId": "431ff535-e409-451e-e72e-a734e0c4eff3"
      },
      "outputs": [
        {
          "data": {
            "text/plain": [
              "0.7564"
            ]
          },
          "execution_count": 5,
          "metadata": {},
          "output_type": "execute_result"
        }
      ],
      "source": [
        "1.24*0.61"
      ]
    },
    {
      "cell_type": "markdown",
      "metadata": {
        "id": "EOT50Mnj-gi2"
      },
      "source": [
        "However, for the error bar on this number:"
      ]
    },
    {
      "cell_type": "code",
      "execution_count": null,
      "metadata": {
        "id": "gabdMflc-gi3",
        "outputId": "f1b85837-d9db-40bc-f979-caaebed118d8"
      },
      "outputs": [
        {
          "data": {
            "text/plain": [
              "0.0002"
            ]
          },
          "execution_count": 6,
          "metadata": {},
          "output_type": "execute_result"
        }
      ],
      "source": [
        "0.02*0.01"
      ]
    },
    {
      "cell_type": "markdown",
      "metadata": {
        "id": "JLseG5Wr-gi3"
      },
      "source": [
        "does not work. Instead, the [error progation formula](https://en.wikipedia.org/wiki/Propagation_of_uncertainty#Example_formulae) gives:"
      ]
    },
    {
      "cell_type": "code",
      "execution_count": null,
      "metadata": {
        "id": "9FQJv-T7-gi3",
        "outputId": "93fa3d0a-1408-46f9-ba12-f8d0e717389f"
      },
      "outputs": [
        {
          "data": {
            "text/plain": [
              "0.01739540169125163"
            ]
          },
          "execution_count": 7,
          "metadata": {},
          "output_type": "execute_result"
        }
      ],
      "source": [
        "np.abs(1.24*0.61)*np.sqrt((0.02/1.24)**2+(0.01/0.61)**2)"
      ]
    },
    {
      "cell_type": "markdown",
      "metadata": {
        "id": "q7BWdLzE-gi3"
      },
      "source": [
        "So the area is $0.756\\pm0.017 m^2$. `uncertainties` obviously saves a lot of work, even for such a simple case. You can also take a look at the web site uncertainties hosted at https://pythonhosted.org/uncertainties/user_guide.html. In particular, [this section](https://pythonhosted.org/uncertainties/user_guide.html#access-to-the-uncertainty-and-to-the-nominal-value) shows some of the properties of a `ufloat` you can access directly.\n",
        "\n",
        "**Example 2**: A reference object is $10.0\\pm0.0001 m$ long, and makes a viewing angle of $0.62\\pm0.02 rad$. How far is it?"
      ]
    },
    {
      "cell_type": "code",
      "execution_count": null,
      "metadata": {
        "id": "503oyyfZ-gi3",
        "outputId": "2d5152da-f634-43ec-88cd-5f0442683c3d"
      },
      "outputs": [
        {
          "name": "stdout",
          "output_type": "stream",
          "text": [
            "Distance is: 15.609024890896208 m, with an error of: 0.537283338762715\n"
          ]
        }
      ],
      "source": [
        "L = uc.ufloat(10.0, 0.0001)\n",
        "theta = uc.ufloat(0.62,0.02)\n",
        "\n",
        "Distance = (L/2)/um.tan(theta/2)\n",
        "\n",
        "print ('Distance is:', Distance.nominal_value, 'm, with an error of:', Distance.std_dev)"
      ]
    },
    {
      "cell_type": "markdown",
      "metadata": {
        "id": "0CCkCEmD-gi4"
      },
      "source": [
        "Note the need to use \"umath\" functions (like `um.tan()` instead of `np.tan()`), and how to get the nominal value and the standard deviation of the uncertainties objects. To get nicer looking output, such as controlling the number of significant digits printed, you can use the information about formatting at https://docs.python.org/3/tutorial/inputoutput.html. In the exercises below you need to print the values to the screen. (Don’t forget units.)"
      ]
    },
    {
      "cell_type": "markdown",
      "metadata": {
        "id": "3pGYrWis-gi4"
      },
      "source": [
        "# Exercises\n",
        "This must be marked before you leave the lab. Mark weighting is in brackets.\n",
        "**Save your work to GitHub after having run all cells with `Runtime` -> `Restart and run all`. And do not change the notebook's filename.** Do add comments to your code, you'll lose points if your code is hard to understand. Graphs without labels (or units when appropriate) are not worth any point.\n",
        "\n",
        "## Exercise 0\n",
        "[0] With some approximations, we have measured the mass of the following black-holes:\n",
        "```\n",
        "\"35.6+/-3.9\",\"30.6+/-3.7\",\"63.1+/-3.2\",\"23.2+/-9.8\",\"13.6+/-4.5\",\"35.7+/-6.8\",\"13.7+/-6.0\",\"7.7+/-2.4\",\"20.5+/-4.0\"\n",
        "```\n",
        "Compute for each (with error-bars) their lifetime due to Hawking radiation:\n",
        "$$\n",
        "t = \\left(\\frac{M}{M_{\\odot}}\\right)^3\\,\\times\\,2.097\\,\\times\\,10^{67} yr\n",
        "$$\n",
        "\n",
        "(this exercise is for demonstration purposes and won't be marked)"
      ]
    },
    {
      "cell_type": "code",
      "execution_count": 2,
      "metadata": {
        "id": "A03PDNnB-gi4",
        "colab": {
          "base_uri": "https://localhost:8080/"
        },
        "outputId": "7caa2ef1-28a8-46ed-fb14-da64d7ed405a"
      },
      "outputs": [
        {
          "output_type": "stream",
          "name": "stdout",
          "text": [
            "\u001b[?25l   \u001b[90m━━━━━━━━━━━━━━━━━━━━━━━━━━━━━━━━━━━━━━━━\u001b[0m \u001b[32m0.0/60.1 kB\u001b[0m \u001b[31m?\u001b[0m eta \u001b[36m-:--:--\u001b[0m\r\u001b[2K   \u001b[90m━━━━━━━━━━━━━━━━━━━━━━━━━━━━━━━━━━━━━━━━\u001b[0m \u001b[32m60.1/60.1 kB\u001b[0m \u001b[31m2.1 MB/s\u001b[0m eta \u001b[36m0:00:00\u001b[0m\n",
            "\u001b[?25h"
          ]
        }
      ],
      "source": [
        "! pip install -q uncertainties"
      ]
    },
    {
      "cell_type": "markdown",
      "metadata": {
        "id": "cSKoiRlQ-gi4"
      },
      "source": [
        "## Exercise 1\n",
        "[2] An object is measured to travel a distance $x = 5.1 \\pm 0.4 m$ during a time of $t = 0.4 \\pm 0.1 s$. What is the average velocity and the error in the average velocity?"
      ]
    },
    {
      "cell_type": "code",
      "execution_count": 3,
      "metadata": {
        "colab": {
          "base_uri": "https://localhost:8080/"
        },
        "id": "K1pG2vfr-gi4",
        "outputId": "33507e96-e97f-4dfe-c8bd-a6e92f380871"
      },
      "outputs": [
        {
          "output_type": "stream",
          "name": "stdout",
          "text": [
            "The average velocity is 12.7+/-3.3 ms^-1\n"
          ]
        }
      ],
      "source": [
        "#1\n",
        "\n",
        "import numpy as np\n",
        "import matplotlib.pyplot as plt\n",
        "import uncertainties as uc\n",
        "import uncertainties.umath as um # for maths functions\n",
        "#speed = distance/time\n",
        "Distance = uc.ufloat(5.1,0.4)\n",
        "Time = uc.ufloat(0.4,0.1)\n",
        "print('The average velocity is', Distance/Time, 'ms^-1')"
      ]
    },
    {
      "cell_type": "markdown",
      "metadata": {
        "id": "dsL25Nw_-gi5"
      },
      "source": [
        "## Exercise 2\n",
        "[2] An enterprising cow attempts to jump over the moon by jumping vertically into the air with initial speed $v_0=4.0\\pm0.2 m/s$. After a time $t=0.60\\pm0.06s$, the height of the cow is $h = v_0t-\\frac{1}{2}g t^2 = 0.636 m$. What is the uncertainty in $h$? Take $g$ as exactly $9.81 ms^{-2}$."
      ]
    },
    {
      "cell_type": "code",
      "execution_count": 4,
      "metadata": {
        "colab": {
          "base_uri": "https://localhost:8080/"
        },
        "id": "S7hOm698-gi5",
        "outputId": "c0bb0d7a-a7d3-4438-b049-96cc863c0f5f"
      },
      "outputs": [
        {
          "output_type": "stream",
          "name": "stdout",
          "text": [
            "The value of h alognisde its uncertainty is 0.63+/-0.16\n"
          ]
        }
      ],
      "source": [
        "#2\n",
        "v0 = uc.ufloat(4,0.2)\n",
        "t = uc.ufloat(0.6,0.06)\n",
        "g = 9.81\n",
        "h = v0*t -0.5*g*(t**2)\n",
        "print('The value of h alognisde its uncertainty is',h)"
      ]
    },
    {
      "cell_type": "markdown",
      "metadata": {
        "id": "Q6Cv8KjQ-gi5"
      },
      "source": [
        "## Exercise 3\n",
        "[2] In an optics experiment the object distance $u$ is measured to be 20cm and the image distance $v$ is 10cm, both to an accuracy of 0.5cm. Find the focal length $f$ of the lens using the formula:\n",
        "\n",
        "$$ \\frac{1}{u}+\\frac{1}{v}=\\frac{1}{f}$$"
      ]
    },
    {
      "cell_type": "code",
      "execution_count": 57,
      "metadata": {
        "colab": {
          "base_uri": "https://localhost:8080/"
        },
        "id": "_dlkJQ5b-gi5",
        "outputId": "362879cd-6d37-4313-d30c-94ade8db3708"
      },
      "outputs": [
        {
          "output_type": "stream",
          "name": "stdout",
          "text": [
            "The focal length is 0.0667+/-0.0023\n"
          ]
        }
      ],
      "source": [
        "#3\n",
        "u = uc.ufloat(0.2,0.005)\n",
        "v = uc.ufloat(0.1,0.005)\n",
        "f = (u*v)/(u+v)\n",
        "print('The focal length is',f)"
      ]
    },
    {
      "cell_type": "markdown",
      "metadata": {
        "id": "yD4Gs1R8-gi5"
      },
      "source": [
        "## Exercise 4\n",
        "[2] Two students each measure the refractive index of water. Jack measures a value of $1.33 \\pm 0.03$ while Jill measures $1.28 \\pm 0.02$. Are these values in agreement? *You do have to think a bit about this one...*"
      ]
    },
    {
      "cell_type": "code",
      "execution_count": 33,
      "metadata": {
        "id": "5KEFG9TE-gi5",
        "colab": {
          "base_uri": "https://localhost:8080/"
        },
        "outputId": "94b2c15a-c9bc-4ac4-d614-f2c190ac8f21"
      },
      "outputs": [
        {
          "output_type": "stream",
          "name": "stdout",
          "text": [
            "0.05+/-0.04\n"
          ]
        }
      ],
      "source": [
        "Jack = uc.ufloat(1.33,0.03)\n",
        "Jill = uc.ufloat(1.28,0.02)\n",
        "x = Jack - Jill\n",
        "print(x)\n",
        "#Because the value and uncertainty in x are so similar to eachother I can infer that the values are not in agreement. (the uncertainty in x should be much bigger then the asnwer)"
      ]
    },
    {
      "cell_type": "markdown",
      "metadata": {
        "id": "nrkW8Ijb-gi5"
      },
      "source": [
        "## Exercise 5\n",
        "[2] The damped resonance frequency $\\omega_{res}$ of an oscillating system is related to the (un-damped) natural angular frequency $\\omega_0$ and the damping coefficient $\\alpha$ by:\n",
        "\n",
        "$$\\omega_{res} = \\sqrt{ \\omega_0^2 - 2\\alpha^2}$$\n",
        "\n",
        "Find $f_0$ if the measured resonance frequency $f_{res}$ is $23.2\\pm0.1 Hz$ and the measured damping coefficient is $19.5\\pm0.5s^{-1}$.\n"
      ]
    },
    {
      "cell_type": "code",
      "execution_count": 6,
      "metadata": {
        "colab": {
          "base_uri": "https://localhost:8080/"
        },
        "id": "l8XwdDNi-gi5",
        "outputId": "83189809-3bfe-4d71-d553-d44590abf3de"
      },
      "outputs": [
        {
          "output_type": "stream",
          "name": "stdout",
          "text": [
            "The natural frequency is 23.61+/-0.10\n"
          ]
        }
      ],
      "source": [
        "from uncertainties.umath import sqrt\n",
        "def angularfrequency(frequency):\n",
        "  w = 2*(np.pi*frequency)\n",
        "  return w\n",
        "\n",
        "f_rest = uc.ufloat(23.2,0.1)\n",
        "damping_co = uc.ufloat(19.5,0.5)\n",
        "w_rest_squared = (angularfrequency(f_rest))**2\n",
        "w_0_squared = w_rest_squared + 2*(damping_co**2)\n",
        "w_0 = sqrt(w_0_squared)\n",
        "f0 = w_0/(2*np.pi)\n",
        "print('The natural frequency is',f0)\n"
      ]
    },
    {
      "cell_type": "markdown",
      "metadata": {
        "id": "epLUmg07-gi5"
      },
      "source": [
        "## Exercise 6\n",
        "[2] Suppose you have the following equation from one of your lab experiments:\n",
        "\n",
        "$$f=\\frac{c}{2}\\sqrt{\\frac{n_x^2}{L_x^2}+\\frac{n_y^2}{L_y^2}+\\frac{n_z^2}{L_z^2}}$$\n",
        "\n",
        "where $f$ is the resonant frequency of sound waves in a box of sides $L_x$, $L_y$ and $L_z$ in length and the $n_x$ etc. are integers. $L_x = 10.2\\pm0.2m$, $L_y = 5.2\\pm0.3m$ and $L_z = 20.0\\pm0.1 m$, while $c = 331.3 + T * 0.606 \\,m\\,s^{-1}$ is the temperature-dependent speed of sound, and the temperature $T$ is $23 \\pm 1^\\circ C$.\n",
        "Calculate $f$ and the error in $f$ for the following values of $(nx,ny,nz)= (1,1,1), (1,1,2)$ and $(2,1,1)$.\n"
      ]
    },
    {
      "cell_type": "code",
      "execution_count": null,
      "metadata": {
        "colab": {
          "base_uri": "https://localhost:8080/"
        },
        "id": "qFDs3kty-gi5",
        "outputId": "6168008d-0fbb-4be1-a79f-72e8b375e62f"
      },
      "outputs": [
        {
          "output_type": "stream",
          "name": "stdout",
          "text": [
            "The resonant frequency for (1,1,1) is 38.2+/-1.7\n",
            "The resonant frequency for (1,1,2) is 41.1+/-1.6\n",
            "The resonant frequency for (2,1,1) is 48.2+/-1.4\n"
          ]
        }
      ],
      "source": [
        "from uncertainties import ufloat\n",
        "from uncertainties.umath import sqrt\n",
        "def resonantfrequency(nx,ny,nz):\n",
        " Lx = uc.ufloat(10.2,0.2)\n",
        " Ly = uc.ufloat(5.2,0.3)\n",
        " Lz = uc.ufloat(20,0.1)\n",
        " T = uc.ufloat(23,1)\n",
        "\n",
        " x = nx**2/Lx**2\n",
        " y = ny**2/Ly**2\n",
        " z = nz**2/Lz**2\n",
        "\n",
        " c = 331.3 + (T*0.606)\n",
        " f = (c/2)*sqrt(x+y+z)\n",
        " return f\n",
        "print(f'The resonant frequency for (1,1,1) is', resonantfrequency(1,1,1))\n",
        "print(f'The resonant frequency for (1,1,2) is', resonantfrequency(1,1,2))\n",
        "print(f'The resonant frequency for (2,1,1) is', resonantfrequency(2,1,1))\n"
      ]
    },
    {
      "cell_type": "markdown",
      "metadata": {
        "id": "ge-pdK4O-gi6"
      },
      "source": [
        "## Exercise 7\n",
        "[4] The reflection coefficient $R_\\parallel$ for parallel plane-polarised light reflected from a surface is given by the equation:\n",
        "\n",
        "$$ R_\\parallel = \\frac{\\tan^2(\\theta_i - \\theta_t)}{\\tan^2(\\theta_i + \\theta_t)} $$\n",
        "\n",
        "Calculate the error in $R_\\parallel$ given measurements $\\theta_i = (78 \\pm 1)^\\circ$ and $\\theta_t = (40 \\pm 1)^\\circ$."
      ]
    },
    {
      "cell_type": "code",
      "execution_count": null,
      "metadata": {
        "colab": {
          "base_uri": "https://localhost:8080/"
        },
        "id": "JfSrSnLF-gi6",
        "outputId": "eae95093-be32-451b-8f6b-e20c93033583"
      },
      "outputs": [
        {
          "output_type": "stream",
          "name": "stdout",
          "text": [
            "The reflection coefficient is 0.173+/-0.027\n"
          ]
        }
      ],
      "source": [
        "from uncertainties import ufloat\n",
        "from uncertainties.umath import tan\n",
        "i = uc.ufloat(78,1)\n",
        "i_rad = i * (np.pi/180)\n",
        "t = uc.ufloat(40,1)\n",
        "t_rad = t * (np.pi/180)\n",
        "R1 = tan(i_rad-t_rad)\n",
        "R2 = tan(i_rad+t_rad)\n",
        "R = (R1**2)/(R2**2)\n",
        "print(f'The reflection coefficient is',R)"
      ]
    },
    {
      "cell_type": "markdown",
      "metadata": {
        "id": "lyfu6N9x-gi6"
      },
      "source": [
        "## Exercise 8\n",
        "[4] Calculate and print to the screen the fractional uncertainty, as a percentage to one\n",
        "significant figure, of the fluid flow discharge coefficient $C_d$ from the equation\n",
        "\n",
        "$$\n",
        "C_d = \\frac{\\dot{m}\\sqrt{1-\\left(\\frac{d}{D}\\right)^4}}{Kd^2F\\sqrt{\\rho\\Delta P}}\n",
        "$$\n",
        "\n",
        "where\n",
        "\n",
        "\\begin{align*}\n",
        "    C_d &= \\text{discharge coefficient}&& \\text{(no units)} \\\\\n",
        "    \\dot{m} &= \\text{mass flow rate}&& = 0.13 \\pm 0.01kg\\,s^{-1} \\\\\n",
        "    d &= \\text{orifice diameter}&& = 11\\pm 1 mm \\\\\n",
        "    D &= \\text{pipe diameter}&& = 71 \\pm 1 mm \\\\\n",
        "    \\rho &= \\text{fluid density}&& =1.01\\pm0.01g\\,cm^{-3} \\\\\n",
        "    \\Delta P &= \\text{differential pressure}&& =156 \\pm 7 Pa \\\\\n",
        "    K &= \\text{a constant parameter}&& =\\text{constant (no units)} \\\\\n",
        "    F &= \\text{thermal expansion factor}&& =\\text{constant (no units)}\n",
        "\\end{align*}\n"
      ]
    },
    {
      "cell_type": "code",
      "execution_count": 86,
      "metadata": {
        "id": "S2Ewqrfp-gi6",
        "colab": {
          "base_uri": "https://localhost:8080/"
        },
        "outputId": "dd195eac-2121-453a-8367-443166866703"
      },
      "outputs": [
        {
          "output_type": "stream",
          "name": "stdout",
          "text": [
            "0.5380637699013506\n",
            "2.7058882075718156\n",
            "The fractional uncertainty as a percentage is 20.0 %\n"
          ]
        }
      ],
      "source": [
        "from uncertainties import unumpy as unp\n",
        "m = uc.ufloat(0.13,0.01)\n",
        "d =uc.ufloat(0.011,0.001)\n",
        "D = uc.ufloat(0.071,0.001)\n",
        "rho = uc.ufloat(1010, 10)\n",
        "P = uc.ufloat(156,7)\n",
        "\n",
        "Numerator = m*sqrt(1-(d/D)**4)\n",
        "Denominator = (d**2)*sqrt(P*rho)\n",
        "c_d = Numerator/Denominator\n",
        "uncertainty = c_d.std_dev\n",
        "print(uncertainty)\n",
        "mean = np.mean(unp.nominal_values(c_d))\n",
        "print(mean)\n",
        "fraction = 100*(uncertainty/mean)\n",
        "x = float(\"%.1g\" % fraction)\n",
        "print(f'The fractional uncertainty as a percentage is', x,'%')\n"
      ]
    },
    {
      "cell_type": "markdown",
      "metadata": {
        "id": "1s29nksq-gi6"
      },
      "source": [
        "## Exercise 9: Optional problem (not marked)\n",
        "If you have time and want to try something interesting, do the following problem by plotting in 2D:\n",
        " - Draw an equilateral triangle with vertices and coordinates: vertex 1: $(p_1,q_1)$; vertex 2: $(p_2, q_2)$; vertex 3: $(p_3, q_3)$.\n",
        " - Place a dot at an arbitrary point $P = (x_0, y_0)$ within this triangle.\n",
        " - Find the next point by selecting randomly an integer $n = 1 , 2, $  or $3$ :\n",
        "    1. If 1 , place a dot halfway between P and vertex 1.\n",
        "    2. If 2 , place a dot halfway between P and vertex 2.\n",
        "    3. If 3 , place a dot halfway between P and vertex 3.\n",
        " - Repeat the last two steps using the last dot as the new P.\n",
        "\n",
        "Mathematically, the coordinates of successive points are given by the formulae\n",
        "\n",
        "$$(x_{i+1},y_{i+1})=0.5[(x_i,y_i)+(p_n,q_n)]$$\n",
        "\n",
        "and\n",
        "\n",
        "$$n=int(1+3r_i),$$\n",
        "\n",
        "where $r_i$ is a random number between 0 and 1 and where the $int()$ function outputs the closest integer smaller than or equal to the argument.\n",
        "\n",
        "Try extending this to four vertices."
      ]
    },
    {
      "cell_type": "code",
      "execution_count": null,
      "metadata": {
        "id": "AOANS3S2-gi7"
      },
      "outputs": [],
      "source": []
    }
  ],
  "metadata": {
    "kernelspec": {
      "display_name": "Python 3",
      "language": "python",
      "name": "python3"
    },
    "language_info": {
      "codemirror_mode": {
        "name": "ipython",
        "version": 3
      },
      "file_extension": ".py",
      "mimetype": "text/x-python",
      "name": "python",
      "nbconvert_exporter": "python",
      "pygments_lexer": "ipython3",
      "version": "3.7.10"
    },
    "colab": {
      "provenance": []
    }
  },
  "nbformat": 4,
  "nbformat_minor": 0
}